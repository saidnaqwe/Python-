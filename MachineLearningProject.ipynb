{
  "nbformat": 4,
  "nbformat_minor": 0,
  "metadata": {
    "colab": {
      "name": "MachineLearningProject.ipynb",
      "provenance": [],
      "authorship_tag": "ABX9TyPTDiRo6ngfxfhGbFmvmjVX",
      "include_colab_link": true
    },
    "kernelspec": {
      "name": "python3",
      "display_name": "Python 3"
    },
    "language_info": {
      "name": "python"
    }
  },
  "cells": [
    {
      "cell_type": "markdown",
      "metadata": {
        "id": "view-in-github",
        "colab_type": "text"
      },
      "source": [
        "<a href=\"https://colab.research.google.com/github/saidnaqwe/Python-Project/blob/main/MachineLearningProject.ipynb\" target=\"_parent\"><img src=\"https://colab.research.google.com/assets/colab-badge.svg\" alt=\"Open In Colab\"/></a>"
      ]
    },
    {
      "cell_type": "code",
      "execution_count": null,
      "metadata": {
        "id": "BkG2dkI-opxu"
      },
      "outputs": [],
      "source": [
        "import pandas as pd\n",
        "import matplotlib.pyplot as plt\n",
        "import seaborn as sns\n",
        "import numpy as np\n"
      ]
    },
    {
      "cell_type": "code",
      "source": [
        "data = pd.read_csv(\"https://raw.githubusercontent.com/negojovanovich3/pythonprojects/main/diabetic_data.csv\")"
      ],
      "metadata": {
        "id": "OjNH56tVosdu"
      },
      "execution_count": null,
      "outputs": []
    },
    {
      "cell_type": "code",
      "source": [
        "data = data.dropna()"
      ],
      "metadata": {
        "id": "40_vMXX0o05o"
      },
      "execution_count": null,
      "outputs": []
    },
    {
      "cell_type": "code",
      "source": [
        "#eda\n",
        "readmit = data[data[\"readmitted\"]!=\"NO\"]\n",
        "No_readmit = data[data[\"readmitted\"] == \"NO\"]\n",
        "\n",
        "sns.countplot(data[\"readmitted\"])\n",
        "plt.figure(figsize=(10,5))\n",
        "\n",
        "sns.countplot(x =\"race\", data=readmit, hue =\"age\")\n",
        "plt.legend(loc =\"upper right\",title=\"age of patient\")\n",
        "\n",
        "plt.figure(figsize=(10,5))\n",
        "\n",
        "sns.countplot(x =\"race\", data=No_readmit, hue =\"age\")\n",
        "plt.legend(loc =\"upper right\",title=\"age of patient\")"
      ],
      "metadata": {
        "id": "qj3pcLIeo4jV"
      },
      "execution_count": null,
      "outputs": []
    },
    {
      "cell_type": "code",
      "source": [
        "#data cleaning\n",
        "df_knn =data.drop(data.columns[10:31], axis=1)\n",
        "df_knn\n",
        "\n",
        "#tyrty"
      ],
      "metadata": {
        "id": "9nmhS3_fpMfH"
      },
      "execution_count": null,
      "outputs": []
    },
    {
      "cell_type": "code",
      "source": [
        "#drop columns and create dummy columns for each remaining\n",
        "df_knn.drop(['race','gender','age','weight','encounter_id','change','diabetesMed','examide','citoglipton','encounter_id','patient_nbr','readmitted'], axis=1, inplace=True)\n",
        "df_knn= pd.get_dummies(data=df_knn, columns=['glyburide','tolbutamide','pioglitazone',\t'rosiglitazone',\t'acarbose',\t'miglitol'\t,'troglitazone',\n",
        "                                             'tolazamide'\t,'insulin','glyburide-metformin',\t'glipizide-metformin'\t,\n",
        "                                             'glimepiride-pioglitazone',\t'metformin-rosiglitazone','metformin-pioglitazone',\n",
        "                                             \t])"
      ],
      "metadata": {
        "id": "e18R4JfdpMmy"
      },
      "execution_count": null,
      "outputs": []
    },
    {
      "cell_type": "code",
      "source": [
        "df_knn = df_knn.drop(['admission_source_id','discharge_disposition_id','admission_type_id'], axis=1)"
      ],
      "metadata": {
        "id": "CVV9bPMipMq8"
      },
      "execution_count": null,
      "outputs": []
    },
    {
      "cell_type": "code",
      "source": [
        "df_knn"
      ],
      "metadata": {
        "id": "SZV5ePVNpMuW"
      },
      "execution_count": null,
      "outputs": []
    },
    {
      "cell_type": "code",
      "source": [
        "#Create a correlation matrix that measures the linear relationships between the variables\n",
        "correlation_matrix = df_knn.corr().round(1)\n",
        "plt.figure(figsize =(25,15))\n",
        "sns.heatmap(data=correlation_matrix, annot=True, fmt=\".2g\", square = True, )\n"
      ],
      "metadata": {
        "id": "j1BTi8O3pM8P"
      },
      "execution_count": null,
      "outputs": []
    },
    {
      "cell_type": "code",
      "source": [
        "x_features = df_knn\n",
        "y_target = df_knn[\"time_in_hospital\"]\n",
        "\n"
      ],
      "metadata": {
        "id": "A30NOxI2pNBt"
      },
      "execution_count": null,
      "outputs": []
    },
    {
      "cell_type": "code",
      "source": [
        "#linear model\n",
        "from sklearn.linear_model import LinearRegression\n",
        "\n",
        "lineReg = LinearRegression()\n",
        "lineReg.fit(x_features,y_target)"
      ],
      "metadata": {
        "id": "Z9ZGWPBep2d5"
      },
      "execution_count": null,
      "outputs": []
    },
    {
      "cell_type": "code",
      "source": [
        "print('the estimated intercept %.2f '%lineReg.intercept_)\n",
        "print('the coefficient is %d ' %len(lineReg.coef_))\n",
        "\n"
      ],
      "metadata": {
        "id": "Rd45C7l-p3f0"
      },
      "execution_count": null,
      "outputs": []
    },
    {
      "cell_type": "code",
      "source": [
        "#MODEL TRAINING\n",
        "# train model split the whole dataset into train and test datasets\n",
        "from sklearn.model_selection import train_test_split\n",
        "X_train, X_test, Y_train, Y_test = train_test_split(x_features,y_target)\n",
        "\n",
        "print(x_features.shape)\n",
        "\n",
        "lineReg.fit(X_train,Y_train)\n",
        "\n"
      ],
      "metadata": {
        "id": "lBirLlAop3vK"
      },
      "execution_count": null,
      "outputs": []
    },
    {
      "cell_type": "code",
      "source": [
        "from sklearn.metrics import mean_squared_error, r2_score\n",
        "\n",
        "# model evaluation for testing set\n",
        "y_train_predict = lineReg.predict(X_train)\n",
        "\n",
        "# root mean square error of the model\n",
        "rmse = np.sqrt(mean_squared_error(Y_train,y_train_predict))\n",
        "\n",
        "# r-squared score of the model\n",
        "r2 = r2_score(Y_train, y_train_predict)\n",
        "\n",
        "print(\"The model performance for training set\")\n",
        "print(\"--------------------------------------\")\n",
        "print('RMSE is {}'.format(rmse))\n",
        "print('R2 score is {}'.format(r2))\n",
        "print(\"\\n\")"
      ],
      "metadata": {
        "id": "XsjiULU9qBta"
      },
      "execution_count": null,
      "outputs": []
    },
    {
      "cell_type": "code",
      "source": [
        "# plotting the y_test vs y_pred\n",
        "# ideally should have been a straight line\n",
        "plt.scatter(Y_test, y_test_predict)\n",
        "plt.show()"
      ],
      "metadata": {
        "id": "C5DC5C-7qH75"
      },
      "execution_count": null,
      "outputs": []
    },
    {
      "cell_type": "code",
      "source": [
        "\n",
        "#data cleaning\n",
        "df_data =data.drop([\"encounter_id\",\"patient_nbr\",],axis =1)\n",
        "\n",
        "df_data =df_data.drop(data.columns[15:48], axis=1)\n",
        "\n",
        "#for race\n",
        "race_dummies = pd.get_dummies(df_data['race'],)\n",
        "df_data.drop(['race'], axis=1, inplace=True)\n",
        "df_data_new = pd.concat([df_data,race_dummies],axis=1)\n",
        "\n",
        "\n",
        "#for gender\n",
        "gender_dummies = pd.get_dummies(df_data['gender'],)\n",
        "df_data_new.drop(['gender'], axis=1, inplace=True)\n",
        "df_data_new = pd.concat([df_data_new,gender_dummies],axis=1)\n",
        "\n",
        "#for age\n",
        "#age_dummies = pd.get_dummies(df_data['age'],)\n",
        "#df_data_new.drop(['age'], axis=1, inplace=True)\n",
        "#df_data_new= pd.concat([df_data_new,age_dummies],axis=1)\n",
        "\n",
        "#for diabetes\n",
        "#diaMeds_dummies = pd.get_dummies(df_data['diabetesMed'],prefix=\"diabetesMed\")\n",
        "#df_data_new.drop(['diabetesMed'], axis=1, inplace=True)\n",
        "#df_data_new = pd.concat([df_data_new,diaMeds_dummies],axis=1)\n",
        "\n",
        "# for readmit\n",
        "readmit_dummies = pd.get_dummies(df_data['readmitted'],prefix =\"readmitted\" )\n",
        "df_data_new.drop(['readmitted'], axis=1, inplace=True)\n",
        "df_data_new = pd.concat([df_data_new,readmit_dummies],axis=1)\n",
        "\n",
        "df_data_new = df_data_new.drop([\"diabetesMed\",\"age\",\"Unknown/Invalid\",\"weight\",\"admission_type_id\",\"discharge_disposition_id\",\"admission_source_id\",\"payer_code\", \"medical_specialty\"], axis=1)\n",
        "df_2 = df_data_new.drop(['?', \"Other\"], axis =1)\n"
      ],
      "metadata": {
        "id": "axRVF_C8qPXJ"
      },
      "execution_count": null,
      "outputs": []
    },
    {
      "cell_type": "code",
      "source": [
        "\n",
        "df_2\n"
      ],
      "metadata": {
        "id": "AEWsVU9AqPlJ"
      },
      "execution_count": null,
      "outputs": []
    },
    {
      "cell_type": "code",
      "source": [
        "#standardizes the data by subtracting the mean and then scaling to unit variance.(Unit variance means dividing all the values by the standard deviation)\n",
        "from sklearn.preprocessing import StandardScaler\n",
        "scalar = StandardScaler()\n",
        "\n",
        "scalar.fit(df_2.drop('Hispanic', axis=1))\n",
        "scaled_features =scalar.transform(df_2.drop('Hispanic', axis =1))\n",
        "df_kmm_features = pd.DataFrame(scaled_features, columns = df_2.columns[:-1])\n",
        "\n"
      ],
      "metadata": {
        "id": "ouP9UXRGqeMn"
      },
      "execution_count": null,
      "outputs": []
    },
    {
      "cell_type": "code",
      "source": [
        "#split data\n",
        "from sklearn.model_selection import train_test_split\n",
        "X_train2, X_test2, y_train2, y_test2  = train_test_split(scaled_features, df_2['Hispanic'], test_size =.3)\n",
        "\n",
        "# gathering data for KNN\n",
        "from sklearn.neighbors import KNeighborsClassifier\n",
        "knn = KNeighborsClassifier(n_neighbors=1)\n",
        "knn.fit(X_train2,y_train2)\n",
        "predict2 = knn.predict(X_test2)\n",
        "predict2\n",
        "\n"
      ],
      "metadata": {
        "id": "q-3Kuwt3qh83"
      },
      "execution_count": null,
      "outputs": []
    },
    {
      "cell_type": "code",
      "source": [
        "# matrix compares the actual target values with those predicted by the machine learning model.\n",
        "from sklearn.metrics import  classification_report, confusion_matrix\n",
        "print(confusion_matrix(y_test2,predict2))\n",
        "\n"
      ],
      "metadata": {
        "id": "QLF4NwpnqiP4"
      },
      "execution_count": null,
      "outputs": []
    },
    {
      "cell_type": "code",
      "source": [
        "#displaying confusin matrix\n",
        "plt.figure(figsize=(10,5))\n",
        "sns.heatmap(confusion_matrix(y_test2, predict2), annot=True, fmt=\".3f\", linewidths=.5, square = True, cmap = 'viridis');\n",
        "plt.ylabel('Actual label');\n",
        "plt.xlabel('Predicted label');\n",
        "all_sample_title = 'Accuracy Score: {0}'.format(knn.score(X_test2, y_test2))\n",
        "plt.title(all_sample_title, size = 15);\n",
        "\n"
      ],
      "metadata": {
        "id": "csukxZInqiTD"
      },
      "execution_count": null,
      "outputs": []
    },
    {
      "cell_type": "code",
      "source": [
        "print(classification_report(y_test2,predict2))\n",
        "\n",
        "#module implements several loss, score, and utility functions to measure classification performance\n",
        "from sklearn import metrics\n",
        "\n",
        "score =[]\n",
        "\n",
        "for i in range(1,40):\n",
        "  knn2 = KNeighborsClassifier(n_neighbors=i)\n",
        "  knn2.fit(X_train2, y_train2)\n",
        "  y_pred = knn2.predict(X_test2)\n",
        "  score.append(metrics.accuracy_score(y_test2,y_pred))\n",
        "\n",
        "print(score)\n",
        "\n"
      ],
      "metadata": {
        "id": "lXiEHjFbqiV8"
      },
      "execution_count": null,
      "outputs": []
    },
    {
      "cell_type": "code",
      "source": [
        "#plotting accuracy score with the k value\n",
        "plt.figure(figsize=(10,6))\n",
        "plt.plot(range(1,40),score, color='blue')\n",
        "plt.xlabel('Value of K for KNN')\n",
        "plt.ylabel('Testing Accuracy')\n",
        "\n"
      ],
      "metadata": {
        "id": "MeQPUerXqibD"
      },
      "execution_count": null,
      "outputs": []
    },
    {
      "cell_type": "code",
      "source": [
        "# calculate the mean of error for all the predicted values where K ranges from 1 and 40.\n",
        "#executes a loop from 1 to 40. In each iteration the mean error for predicted values of test set is calculated and the result is appended to the error list.\n",
        "error_rate = []\n",
        "for i in range(1,40):\n",
        "    \n",
        "    knn3 = KNeighborsClassifier(n_neighbors=i)\n",
        "    knn3.fit(X_train2,y_train2)\n",
        "    pred_i = knn3.predict(X_test2)\n",
        "    error_rate.append(np.mean(pred_i != y_test2))\n",
        "\n",
        "\n",
        "\n",
        "#plotting error vate to k value\n",
        "\n",
        "plt.figure(figsize=(10,6))\n",
        "plt.plot(range(1,40),error_rate,color='blue', linestyle='dashed', marker='o',\n",
        "         markerfacecolor='red', markersize=10)\n",
        "plt.title('Error Rate vs. K Value')\n",
        "plt.xlabel('K')\n",
        "plt.ylabel('Error Rate')"
      ],
      "metadata": {
        "id": "vFV3SW56qie1"
      },
      "execution_count": null,
      "outputs": []
    }
  ]
}